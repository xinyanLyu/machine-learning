{
  "nbformat": 4,
  "nbformat_minor": 0,
  "metadata": {
    "colab": {
      "name": "Titanic.ipynb",
      "version": "0.3.2",
      "provenance": [],
      "collapsed_sections": [
        "KSN_94M4wV05",
        "YVjq-hzbsEiT",
        "77pPqhbJw5kR"
      ],
      "include_colab_link": true
    },
    "kernelspec": {
      "name": "python3",
      "display_name": "Python 3"
    }
  },
  "cells": [
    {
      "cell_type": "markdown",
      "metadata": {
        "id": "view-in-github",
        "colab_type": "text"
      },
      "source": [
        "<a href=\"https://colab.research.google.com/github/xinyanLyu/machine-learning/blob/master/Titanic.ipynb\" target=\"_parent\"><img src=\"https://colab.research.google.com/assets/colab-badge.svg\" alt=\"Open In Colab\"/></a>"
      ]
    },
    {
      "metadata": {
        "id": "mlvynYFPko4T",
        "colab_type": "text"
      },
      "cell_type": "markdown",
      "source": [
        "#Titanic Analysis"
      ]
    },
    {
      "metadata": {
        "id": "3oXNvd_hkqrI",
        "colab_type": "text"
      },
      "cell_type": "markdown",
      "source": [
        "## Mount GDrive and Import Data"
      ]
    },
    {
      "metadata": {
        "id": "s1rZHNjPkrJx",
        "colab_type": "code",
        "outputId": "c6a0b795-8ff7-4e50-ac42-2a97398ef943",
        "colab": {
          "base_uri": "https://localhost:8080/",
          "height": 127
        }
      },
      "cell_type": "code",
      "source": [
        "# Mount GDrive\n",
        "from google.colab import drive\n",
        "drive.mount('/content/gdrive', force_remount=True)\n",
        "\n",
        "import os;os.listdir(\"/content/gdrive/My Drive/machine learning/Kaggle Titanic\")\n",
        "\n"
      ],
      "execution_count": 1,
      "outputs": [
        {
          "output_type": "stream",
          "text": [
            "Go to this URL in a browser: https://accounts.google.com/o/oauth2/auth?client_id=947318989803-6bn6qk8qdgf4n4g3pfee6491hc0brc4i.apps.googleusercontent.com&redirect_uri=urn%3Aietf%3Awg%3Aoauth%3A2.0%3Aoob&scope=email%20https%3A%2F%2Fwww.googleapis.com%2Fauth%2Fdocs.test%20https%3A%2F%2Fwww.googleapis.com%2Fauth%2Fdrive%20https%3A%2F%2Fwww.googleapis.com%2Fauth%2Fdrive.photos.readonly%20https%3A%2F%2Fwww.googleapis.com%2Fauth%2Fpeopleapi.readonly&response_type=code\n",
            "\n",
            "Enter your authorization code:\n",
            "··········\n",
            "Mounted at /content/gdrive\n"
          ],
          "name": "stdout"
        }
      ]
    },
    {
      "metadata": {
        "id": "IuZK5FKS8-Ak",
        "colab_type": "text"
      },
      "cell_type": "markdown",
      "source": [
        "load dataset"
      ]
    },
    {
      "metadata": {
        "id": "mF22WrYo89BD",
        "colab_type": "code",
        "colab": {}
      },
      "cell_type": "code",
      "source": [
        "# import data\n",
        "import pandas as pd \n",
        "import numpy as np \n",
        "\n",
        "train_df = pd.read_csv(\"/content/gdrive/My Drive/machine learning/Kaggle Titanic/train.csv\")\n",
        "test_df    = pd.read_csv(\"/content/gdrive/My Drive/machine learning/Kaggle Titanic/test.csv\")\n",
        "\n"
      ],
      "execution_count": 0,
      "outputs": []
    },
    {
      "metadata": {
        "id": "6IwqBTDcCmlg",
        "colab_type": "text"
      },
      "cell_type": "markdown",
      "source": [
        "##Data exploration"
      ]
    },
    {
      "metadata": {
        "id": "ORnR7EV7oxkE",
        "colab_type": "text"
      },
      "cell_type": "markdown",
      "source": [
        "###Data descriptive analysis\n"
      ]
    },
    {
      "metadata": {
        "id": "Nc75zGWInb7M",
        "colab_type": "code",
        "outputId": "b70c19f1-1767-44e7-c658-1753b1c866fd",
        "colab": {
          "base_uri": "https://localhost:8080/",
          "height": 202
        }
      },
      "cell_type": "code",
      "source": [
        "# preview  data\n",
        "train_df.head()"
      ],
      "execution_count": 2,
      "outputs": [
        {
          "output_type": "execute_result",
          "data": {
            "text/html": [
              "<div>\n",
              "<style scoped>\n",
              "    .dataframe tbody tr th:only-of-type {\n",
              "        vertical-align: middle;\n",
              "    }\n",
              "\n",
              "    .dataframe tbody tr th {\n",
              "        vertical-align: top;\n",
              "    }\n",
              "\n",
              "    .dataframe thead th {\n",
              "        text-align: right;\n",
              "    }\n",
              "</style>\n",
              "<table border=\"1\" class=\"dataframe\">\n",
              "  <thead>\n",
              "    <tr style=\"text-align: right;\">\n",
              "      <th></th>\n",
              "      <th>PassengerId</th>\n",
              "      <th>Survived</th>\n",
              "      <th>Pclass</th>\n",
              "      <th>Name</th>\n",
              "      <th>Sex</th>\n",
              "      <th>Age</th>\n",
              "      <th>SibSp</th>\n",
              "      <th>Parch</th>\n",
              "      <th>Ticket</th>\n",
              "      <th>Fare</th>\n",
              "      <th>Cabin</th>\n",
              "      <th>Embarked</th>\n",
              "    </tr>\n",
              "  </thead>\n",
              "  <tbody>\n",
              "    <tr>\n",
              "      <th>0</th>\n",
              "      <td>1</td>\n",
              "      <td>0</td>\n",
              "      <td>3</td>\n",
              "      <td>Braund, Mr. Owen Harris</td>\n",
              "      <td>male</td>\n",
              "      <td>22.0</td>\n",
              "      <td>1</td>\n",
              "      <td>0</td>\n",
              "      <td>A/5 21171</td>\n",
              "      <td>7.2500</td>\n",
              "      <td>NaN</td>\n",
              "      <td>S</td>\n",
              "    </tr>\n",
              "    <tr>\n",
              "      <th>1</th>\n",
              "      <td>2</td>\n",
              "      <td>1</td>\n",
              "      <td>1</td>\n",
              "      <td>Cumings, Mrs. John Bradley (Florence Briggs Th...</td>\n",
              "      <td>female</td>\n",
              "      <td>38.0</td>\n",
              "      <td>1</td>\n",
              "      <td>0</td>\n",
              "      <td>PC 17599</td>\n",
              "      <td>71.2833</td>\n",
              "      <td>C85</td>\n",
              "      <td>C</td>\n",
              "    </tr>\n",
              "    <tr>\n",
              "      <th>2</th>\n",
              "      <td>3</td>\n",
              "      <td>1</td>\n",
              "      <td>3</td>\n",
              "      <td>Heikkinen, Miss. Laina</td>\n",
              "      <td>female</td>\n",
              "      <td>26.0</td>\n",
              "      <td>0</td>\n",
              "      <td>0</td>\n",
              "      <td>STON/O2. 3101282</td>\n",
              "      <td>7.9250</td>\n",
              "      <td>NaN</td>\n",
              "      <td>S</td>\n",
              "    </tr>\n",
              "    <tr>\n",
              "      <th>3</th>\n",
              "      <td>4</td>\n",
              "      <td>1</td>\n",
              "      <td>1</td>\n",
              "      <td>Futrelle, Mrs. Jacques Heath (Lily May Peel)</td>\n",
              "      <td>female</td>\n",
              "      <td>35.0</td>\n",
              "      <td>1</td>\n",
              "      <td>0</td>\n",
              "      <td>113803</td>\n",
              "      <td>53.1000</td>\n",
              "      <td>C123</td>\n",
              "      <td>S</td>\n",
              "    </tr>\n",
              "    <tr>\n",
              "      <th>4</th>\n",
              "      <td>5</td>\n",
              "      <td>0</td>\n",
              "      <td>3</td>\n",
              "      <td>Allen, Mr. William Henry</td>\n",
              "      <td>male</td>\n",
              "      <td>35.0</td>\n",
              "      <td>0</td>\n",
              "      <td>0</td>\n",
              "      <td>373450</td>\n",
              "      <td>8.0500</td>\n",
              "      <td>NaN</td>\n",
              "      <td>S</td>\n",
              "    </tr>\n",
              "  </tbody>\n",
              "</table>\n",
              "</div>"
            ],
            "text/plain": [
              "   PassengerId  Survived  Pclass  \\\n",
              "0            1         0       3   \n",
              "1            2         1       1   \n",
              "2            3         1       3   \n",
              "3            4         1       1   \n",
              "4            5         0       3   \n",
              "\n",
              "                                                Name     Sex   Age  SibSp  \\\n",
              "0                            Braund, Mr. Owen Harris    male  22.0      1   \n",
              "1  Cumings, Mrs. John Bradley (Florence Briggs Th...  female  38.0      1   \n",
              "2                             Heikkinen, Miss. Laina  female  26.0      0   \n",
              "3       Futrelle, Mrs. Jacques Heath (Lily May Peel)  female  35.0      1   \n",
              "4                           Allen, Mr. William Henry    male  35.0      0   \n",
              "\n",
              "   Parch            Ticket     Fare Cabin Embarked  \n",
              "0      0         A/5 21171   7.2500   NaN        S  \n",
              "1      0          PC 17599  71.2833   C85        C  \n",
              "2      0  STON/O2. 3101282   7.9250   NaN        S  \n",
              "3      0            113803  53.1000  C123        S  \n",
              "4      0            373450   8.0500   NaN        S  "
            ]
          },
          "metadata": {
            "tags": []
          },
          "execution_count": 2
        }
      ]
    },
    {
      "metadata": {
        "id": "8fmci5yenUNw",
        "colab_type": "code",
        "outputId": "de4cc044-4c62-4c9f-bed8-0de92cf13d0b",
        "colab": {
          "base_uri": "https://localhost:8080/",
          "height": 600
        }
      },
      "cell_type": "code",
      "source": [
        "#  summary train data\n",
        "train_df.info()\n",
        "\n",
        "train_df.describe()\n",
        "\n"
      ],
      "execution_count": 3,
      "outputs": [
        {
          "output_type": "stream",
          "text": [
            "<class 'pandas.core.frame.DataFrame'>\n",
            "RangeIndex: 891 entries, 0 to 890\n",
            "Data columns (total 12 columns):\n",
            "PassengerId    891 non-null int64\n",
            "Survived       891 non-null int64\n",
            "Pclass         891 non-null int64\n",
            "Name           891 non-null object\n",
            "Sex            891 non-null object\n",
            "Age            714 non-null float64\n",
            "SibSp          891 non-null int64\n",
            "Parch          891 non-null int64\n",
            "Ticket         891 non-null object\n",
            "Fare           891 non-null float64\n",
            "Cabin          204 non-null object\n",
            "Embarked       889 non-null object\n",
            "dtypes: float64(2), int64(5), object(5)\n",
            "memory usage: 83.6+ KB\n"
          ],
          "name": "stdout"
        },
        {
          "output_type": "execute_result",
          "data": {
            "text/html": [
              "<div>\n",
              "<style scoped>\n",
              "    .dataframe tbody tr th:only-of-type {\n",
              "        vertical-align: middle;\n",
              "    }\n",
              "\n",
              "    .dataframe tbody tr th {\n",
              "        vertical-align: top;\n",
              "    }\n",
              "\n",
              "    .dataframe thead th {\n",
              "        text-align: right;\n",
              "    }\n",
              "</style>\n",
              "<table border=\"1\" class=\"dataframe\">\n",
              "  <thead>\n",
              "    <tr style=\"text-align: right;\">\n",
              "      <th></th>\n",
              "      <th>PassengerId</th>\n",
              "      <th>Survived</th>\n",
              "      <th>Pclass</th>\n",
              "      <th>Age</th>\n",
              "      <th>SibSp</th>\n",
              "      <th>Parch</th>\n",
              "      <th>Fare</th>\n",
              "    </tr>\n",
              "  </thead>\n",
              "  <tbody>\n",
              "    <tr>\n",
              "      <th>count</th>\n",
              "      <td>891.000000</td>\n",
              "      <td>891.000000</td>\n",
              "      <td>891.000000</td>\n",
              "      <td>714.000000</td>\n",
              "      <td>891.000000</td>\n",
              "      <td>891.000000</td>\n",
              "      <td>891.000000</td>\n",
              "    </tr>\n",
              "    <tr>\n",
              "      <th>mean</th>\n",
              "      <td>446.000000</td>\n",
              "      <td>0.383838</td>\n",
              "      <td>2.308642</td>\n",
              "      <td>29.699118</td>\n",
              "      <td>0.523008</td>\n",
              "      <td>0.381594</td>\n",
              "      <td>32.204208</td>\n",
              "    </tr>\n",
              "    <tr>\n",
              "      <th>std</th>\n",
              "      <td>257.353842</td>\n",
              "      <td>0.486592</td>\n",
              "      <td>0.836071</td>\n",
              "      <td>14.526497</td>\n",
              "      <td>1.102743</td>\n",
              "      <td>0.806057</td>\n",
              "      <td>49.693429</td>\n",
              "    </tr>\n",
              "    <tr>\n",
              "      <th>min</th>\n",
              "      <td>1.000000</td>\n",
              "      <td>0.000000</td>\n",
              "      <td>1.000000</td>\n",
              "      <td>0.420000</td>\n",
              "      <td>0.000000</td>\n",
              "      <td>0.000000</td>\n",
              "      <td>0.000000</td>\n",
              "    </tr>\n",
              "    <tr>\n",
              "      <th>25%</th>\n",
              "      <td>223.500000</td>\n",
              "      <td>0.000000</td>\n",
              "      <td>2.000000</td>\n",
              "      <td>20.125000</td>\n",
              "      <td>0.000000</td>\n",
              "      <td>0.000000</td>\n",
              "      <td>7.910400</td>\n",
              "    </tr>\n",
              "    <tr>\n",
              "      <th>50%</th>\n",
              "      <td>446.000000</td>\n",
              "      <td>0.000000</td>\n",
              "      <td>3.000000</td>\n",
              "      <td>28.000000</td>\n",
              "      <td>0.000000</td>\n",
              "      <td>0.000000</td>\n",
              "      <td>14.454200</td>\n",
              "    </tr>\n",
              "    <tr>\n",
              "      <th>75%</th>\n",
              "      <td>668.500000</td>\n",
              "      <td>1.000000</td>\n",
              "      <td>3.000000</td>\n",
              "      <td>38.000000</td>\n",
              "      <td>1.000000</td>\n",
              "      <td>0.000000</td>\n",
              "      <td>31.000000</td>\n",
              "    </tr>\n",
              "    <tr>\n",
              "      <th>max</th>\n",
              "      <td>891.000000</td>\n",
              "      <td>1.000000</td>\n",
              "      <td>3.000000</td>\n",
              "      <td>80.000000</td>\n",
              "      <td>8.000000</td>\n",
              "      <td>6.000000</td>\n",
              "      <td>512.329200</td>\n",
              "    </tr>\n",
              "  </tbody>\n",
              "</table>\n",
              "</div>"
            ],
            "text/plain": [
              "       PassengerId    Survived      Pclass         Age       SibSp  \\\n",
              "count   891.000000  891.000000  891.000000  714.000000  891.000000   \n",
              "mean    446.000000    0.383838    2.308642   29.699118    0.523008   \n",
              "std     257.353842    0.486592    0.836071   14.526497    1.102743   \n",
              "min       1.000000    0.000000    1.000000    0.420000    0.000000   \n",
              "25%     223.500000    0.000000    2.000000   20.125000    0.000000   \n",
              "50%     446.000000    0.000000    3.000000   28.000000    0.000000   \n",
              "75%     668.500000    1.000000    3.000000   38.000000    1.000000   \n",
              "max     891.000000    1.000000    3.000000   80.000000    8.000000   \n",
              "\n",
              "            Parch        Fare  \n",
              "count  891.000000  891.000000  \n",
              "mean     0.381594   32.204208  \n",
              "std      0.806057   49.693429  \n",
              "min      0.000000    0.000000  \n",
              "25%      0.000000    7.910400  \n",
              "50%      0.000000   14.454200  \n",
              "75%      0.000000   31.000000  \n",
              "max      6.000000  512.329200  "
            ]
          },
          "metadata": {
            "tags": []
          },
          "execution_count": 3
        }
      ]
    },
    {
      "metadata": {
        "id": "gRPNNIogn7Iu",
        "colab_type": "code",
        "outputId": "8b824fb1-cb5a-4944-8478-4534a3fcb18c",
        "colab": {
          "base_uri": "https://localhost:8080/",
          "height": 582
        }
      },
      "cell_type": "code",
      "source": [
        "#  summary test data\n",
        "test_df.info()\n",
        "\n",
        "test_df.describe()"
      ],
      "execution_count": 4,
      "outputs": [
        {
          "output_type": "stream",
          "text": [
            "<class 'pandas.core.frame.DataFrame'>\n",
            "RangeIndex: 418 entries, 0 to 417\n",
            "Data columns (total 11 columns):\n",
            "PassengerId    418 non-null int64\n",
            "Pclass         418 non-null int64\n",
            "Name           418 non-null object\n",
            "Sex            418 non-null object\n",
            "Age            332 non-null float64\n",
            "SibSp          418 non-null int64\n",
            "Parch          418 non-null int64\n",
            "Ticket         418 non-null object\n",
            "Fare           417 non-null float64\n",
            "Cabin          91 non-null object\n",
            "Embarked       418 non-null object\n",
            "dtypes: float64(2), int64(4), object(5)\n",
            "memory usage: 36.0+ KB\n"
          ],
          "name": "stdout"
        },
        {
          "output_type": "execute_result",
          "data": {
            "text/html": [
              "<div>\n",
              "<style scoped>\n",
              "    .dataframe tbody tr th:only-of-type {\n",
              "        vertical-align: middle;\n",
              "    }\n",
              "\n",
              "    .dataframe tbody tr th {\n",
              "        vertical-align: top;\n",
              "    }\n",
              "\n",
              "    .dataframe thead th {\n",
              "        text-align: right;\n",
              "    }\n",
              "</style>\n",
              "<table border=\"1\" class=\"dataframe\">\n",
              "  <thead>\n",
              "    <tr style=\"text-align: right;\">\n",
              "      <th></th>\n",
              "      <th>PassengerId</th>\n",
              "      <th>Pclass</th>\n",
              "      <th>Age</th>\n",
              "      <th>SibSp</th>\n",
              "      <th>Parch</th>\n",
              "      <th>Fare</th>\n",
              "    </tr>\n",
              "  </thead>\n",
              "  <tbody>\n",
              "    <tr>\n",
              "      <th>count</th>\n",
              "      <td>418.000000</td>\n",
              "      <td>418.000000</td>\n",
              "      <td>332.000000</td>\n",
              "      <td>418.000000</td>\n",
              "      <td>418.000000</td>\n",
              "      <td>417.000000</td>\n",
              "    </tr>\n",
              "    <tr>\n",
              "      <th>mean</th>\n",
              "      <td>1100.500000</td>\n",
              "      <td>2.265550</td>\n",
              "      <td>30.272590</td>\n",
              "      <td>0.447368</td>\n",
              "      <td>0.392344</td>\n",
              "      <td>35.627188</td>\n",
              "    </tr>\n",
              "    <tr>\n",
              "      <th>std</th>\n",
              "      <td>120.810458</td>\n",
              "      <td>0.841838</td>\n",
              "      <td>14.181209</td>\n",
              "      <td>0.896760</td>\n",
              "      <td>0.981429</td>\n",
              "      <td>55.907576</td>\n",
              "    </tr>\n",
              "    <tr>\n",
              "      <th>min</th>\n",
              "      <td>892.000000</td>\n",
              "      <td>1.000000</td>\n",
              "      <td>0.170000</td>\n",
              "      <td>0.000000</td>\n",
              "      <td>0.000000</td>\n",
              "      <td>0.000000</td>\n",
              "    </tr>\n",
              "    <tr>\n",
              "      <th>25%</th>\n",
              "      <td>996.250000</td>\n",
              "      <td>1.000000</td>\n",
              "      <td>21.000000</td>\n",
              "      <td>0.000000</td>\n",
              "      <td>0.000000</td>\n",
              "      <td>7.895800</td>\n",
              "    </tr>\n",
              "    <tr>\n",
              "      <th>50%</th>\n",
              "      <td>1100.500000</td>\n",
              "      <td>3.000000</td>\n",
              "      <td>27.000000</td>\n",
              "      <td>0.000000</td>\n",
              "      <td>0.000000</td>\n",
              "      <td>14.454200</td>\n",
              "    </tr>\n",
              "    <tr>\n",
              "      <th>75%</th>\n",
              "      <td>1204.750000</td>\n",
              "      <td>3.000000</td>\n",
              "      <td>39.000000</td>\n",
              "      <td>1.000000</td>\n",
              "      <td>0.000000</td>\n",
              "      <td>31.500000</td>\n",
              "    </tr>\n",
              "    <tr>\n",
              "      <th>max</th>\n",
              "      <td>1309.000000</td>\n",
              "      <td>3.000000</td>\n",
              "      <td>76.000000</td>\n",
              "      <td>8.000000</td>\n",
              "      <td>9.000000</td>\n",
              "      <td>512.329200</td>\n",
              "    </tr>\n",
              "  </tbody>\n",
              "</table>\n",
              "</div>"
            ],
            "text/plain": [
              "       PassengerId      Pclass         Age       SibSp       Parch        Fare\n",
              "count   418.000000  418.000000  332.000000  418.000000  418.000000  417.000000\n",
              "mean   1100.500000    2.265550   30.272590    0.447368    0.392344   35.627188\n",
              "std     120.810458    0.841838   14.181209    0.896760    0.981429   55.907576\n",
              "min     892.000000    1.000000    0.170000    0.000000    0.000000    0.000000\n",
              "25%     996.250000    1.000000   21.000000    0.000000    0.000000    7.895800\n",
              "50%    1100.500000    3.000000   27.000000    0.000000    0.000000   14.454200\n",
              "75%    1204.750000    3.000000   39.000000    1.000000    0.000000   31.500000\n",
              "max    1309.000000    3.000000   76.000000    8.000000    9.000000  512.329200"
            ]
          },
          "metadata": {
            "tags": []
          },
          "execution_count": 4
        }
      ]
    },
    {
      "metadata": {
        "id": "4JDce4SKkt8n",
        "colab_type": "text"
      },
      "cell_type": "markdown",
      "source": [
        "### Exploratory visualization"
      ]
    },
    {
      "metadata": {
        "id": "flsV1mvYlX5i",
        "colab_type": "code",
        "outputId": "ada39e66-e94b-4d91-8574-0cb0584a4a5b",
        "colab": {
          "base_uri": "https://localhost:8080/",
          "height": 377
        }
      },
      "cell_type": "code",
      "source": [
        "import matplotlib.pyplot as plt\n",
        "fig = plt.figure()\n",
        "fig.set(alpha=0.2)\n",
        "\n",
        "plt.subplot2grid((2,3),(0,0))             # plot several charts in one big chart\n",
        "train_df.Survived.value_counts().plot(kind='bar')# bar chart\n",
        "plt.title(f\"Survived or not (1 as survived)\") # title\n",
        "plt.ylabel(f\"Number of passengers\")\n",
        "\n",
        "plt.subplot2grid((2,3),(0,1))\n",
        "train_df.Pclass.value_counts().plot(kind=\"bar\")\n",
        "plt.ylabel(u\"Number of passengers\")\n",
        "plt.title(u\"Pclass distribution\")\n",
        "\n",
        "plt.subplot2grid((2,3),(0,2))\n",
        "plt.scatter(train_df.Survived, train_df.Age)\n",
        "plt.ylabel(u\"Age\")                         # sets the y axis lable\n",
        "plt.grid(b=True, which='major', axis='y') # formats the grid line style of our graphs\n",
        "plt.title(u\"Survived vs. age (1 as survived)\")\n",
        "\n",
        "\n",
        "plt.subplot2grid((2,3),(1,0), colspan=2)\n",
        "train_df.Age[train_df.Pclass == 1].plot(kind='kde')   # plots a kernel desnsity estimate of the subset of the 1st class passanges's age\n",
        "train_df.Age[train_df.Pclass == 2].plot(kind='kde')\n",
        "train_df.Age[train_df.Pclass == 3].plot(kind='kde')\n",
        "plt.xlabel(u\"Age\")# plots an axis lable\n",
        "plt.ylabel(u\"Density of survived\") \n",
        "plt.title(u\"Age of passengers in each Pclass\")\n",
        "plt.legend((u'1st class', u'2nd class',u'3rd class'),loc='best') # sets our legend for our graph.\n",
        "\n",
        "\n",
        "plt.subplot2grid((2,3),(1,2))\n",
        "train_df.Embarked.value_counts().plot(kind='bar')\n",
        "plt.title(u\"Number of passengers aboard from each port\")\n",
        "plt.ylabel(u\"Number of passengers\")  \n",
        "plt.show()"
      ],
      "execution_count": 15,
      "outputs": [
        {
          "output_type": "display_data",
          "data": {
            "image/png": "[encoded data removed]",
            "text/plain": [
              "<Figure size 576x396 with 5 Axes>"
            ]
          },
          "metadata": {
            "tags": []
          }
        }
      ]
    },
    {
      "metadata": {
        "id": "orGe896tmpfZ",
        "colab_type": "text"
      },
      "cell_type": "markdown",
      "source": [
        "####Look deeper into survived vs. some variables that might matter "
      ]
    },
    {
      "metadata": {
        "id": "IZHtfWWdW51M",
        "colab_type": "text"
      },
      "cell_type": "markdown",
      "source": [
        "##### Survived vs. Pclass"
      ]
    },
    {
      "metadata": {
        "id": "MUHVEwZbkpID",
        "colab_type": "code",
        "colab": {
          "base_uri": "https://localhost:8080/",
          "height": 391
        },
        "outputId": "7792dcac-11f8-4bcd-a931-bf69047adcd9"
      },
      "cell_type": "code",
      "source": [
        "#survived vs. Pclass\n",
        "fig = plt.figure()\n",
        "fig.set(alpha=0.2) \n",
        "\n",
        "Survived_0 = train_df.Pclass[train_df.Survived == 0].value_counts()\n",
        "Survived_1 = train_df.Pclass[train_df.Survived == 1].value_counts()\n",
        "df=pd.DataFrame({u'Survived':Survived_1, u'Not survived':Survived_0})\n",
        "df.plot(kind='bar', stacked=True)\n",
        "plt.title(u\"Survived vs. Pclass\")\n",
        "plt.xlabel(u\"Pclass\") \n",
        "plt.ylabel(u\"Number of passengers\") \n",
        "\n",
        "plt.show()"
      ],
      "execution_count": 20,
      "outputs": [
        {
          "output_type": "display_data",
          "data": {
            "text/plain": [
              "<Figure size 576x396 with 0 Axes>"
            ]
          },
          "metadata": {
            "tags": []
          }
        },
        {
          "output_type": "display_data",
          "data": {
            "image/png": "[encoded data removed]",
            "text/plain": [
              "<Figure size 576x396 with 1 Axes>"
            ]
          },
          "metadata": {
            "tags": []
          }
        }
      ]
    },
    {
      "metadata": {
        "id": "ObhayfehW_Iz",
        "colab_type": "text"
      },
      "cell_type": "markdown",
      "source": [
        "#####survived vs. port"
      ]
    },
    {
      "metadata": {
        "id": "GC7bJsWLmGKN",
        "colab_type": "code",
        "colab": {
          "base_uri": "https://localhost:8080/",
          "height": 393
        },
        "outputId": "16898c40-a40d-40ae-ee61-4fad2703db94"
      },
      "cell_type": "code",
      "source": [
        "#survived vs. port\n",
        "fig = plt.figure()\n",
        "fig.set(alpha=0.2)  \n",
        "\n",
        "Survived_0 = train_df.Embarked[train_df.Survived == 0].value_counts()\n",
        "Survived_1 = train_df.Embarked[train_df.Survived == 1].value_counts()\n",
        "df=pd.DataFrame({u'Survived':Survived_1, u'Not survived':Survived_0})\n",
        "df.plot(kind='bar', stacked=True)\n",
        "plt.title(u\"Survived vs. port\")\n",
        "plt.xlabel(u\"Port\") \n",
        "plt.ylabel(u\"Number of passengers\") \n",
        "\n",
        "plt.show()"
      ],
      "execution_count": 21,
      "outputs": [
        {
          "output_type": "display_data",
          "data": {
            "text/plain": [
              "<Figure size 576x396 with 0 Axes>"
            ]
          },
          "metadata": {
            "tags": []
          }
        },
        {
          "output_type": "display_data",
          "data": {
            "image/png": "[encoded data removed]",
            "text/plain": [
              "<Figure size 576x396 with 1 Axes>"
            ]
          },
          "metadata": {
            "tags": []
          }
        }
      ]
    },
    {
      "metadata": {
        "id": "LLbQkrIeXDhU",
        "colab_type": "text"
      },
      "cell_type": "markdown",
      "source": [
        "#####survived vs. gender"
      ]
    },
    {
      "metadata": {
        "id": "hOoyMShlmKPo",
        "colab_type": "code",
        "colab": {
          "base_uri": "https://localhost:8080/",
          "height": 391
        },
        "outputId": "df7e1296-adf0-4c4c-c777-08fa4cda37d8"
      },
      "cell_type": "code",
      "source": [
        "#survived vs. gender\n",
        "fig = plt.figure()\n",
        "fig.set(alpha=0.2)\n",
        "\n",
        "Survived_m = train_df.Survived[train_df.Sex == 'male'].value_counts()\n",
        "Survived_f = train_df.Survived[train_df.Sex == 'female'].value_counts()\n",
        "df=pd.DataFrame({u'Male':Survived_m, u'Female':Survived_f})\n",
        "df.plot(kind='bar', stacked=True)\n",
        "plt.title(u\"Survived vs. gender\")\n",
        "plt.xlabel(u\"Survived\") \n",
        "plt.ylabel(u\"Number of passengers\")\n",
        "plt.show()"
      ],
      "execution_count": 23,
      "outputs": [
        {
          "output_type": "display_data",
          "data": {
            "text/plain": [
              "<Figure size 576x396 with 0 Axes>"
            ]
          },
          "metadata": {
            "tags": []
          }
        },
        {
          "output_type": "display_data",
          "data": {
            "image/png": "[encoded data removed]",
            "text/plain": [
              "<Figure size 576x396 with 1 Axes>"
            ]
          },
          "metadata": {
            "tags": []
          }
        }
      ]
    },
    {
      "metadata": {
        "id": "KSN_94M4wV05",
        "colab_type": "text"
      },
      "cell_type": "markdown",
      "source": [
        "#####Sibsp and parch"
      ]
    },
    {
      "metadata": {
        "id": "9QqKcdenv0A1",
        "colab_type": "code",
        "colab": {
          "base_uri": "https://localhost:8080/",
          "height": 447
        },
        "outputId": "e169dc77-2ce4-4a8d-d043-a2802c36a872"
      },
      "cell_type": "code",
      "source": [
        "#siblings\n",
        "g = train_df.groupby(['SibSp','Survived'])\n",
        "df_sib = pd.DataFrame(g.count()['PassengerId'])\n",
        "df_sib"
      ],
      "execution_count": 41,
      "outputs": [
        {
          "output_type": "execute_result",
          "data": {
            "text/html": [
              "<div>\n",
              "<style scoped>\n",
              "    .dataframe tbody tr th:only-of-type {\n",
              "        vertical-align: middle;\n",
              "    }\n",
              "\n",
              "    .dataframe tbody tr th {\n",
              "        vertical-align: top;\n",
              "    }\n",
              "\n",
              "    .dataframe thead th {\n",
              "        text-align: right;\n",
              "    }\n",
              "</style>\n",
              "<table border=\"1\" class=\"dataframe\">\n",
              "  <thead>\n",
              "    <tr style=\"text-align: right;\">\n",
              "      <th></th>\n",
              "      <th></th>\n",
              "      <th>PassengerId</th>\n",
              "    </tr>\n",
              "    <tr>\n",
              "      <th>SibSp</th>\n",
              "      <th>Survived</th>\n",
              "      <th></th>\n",
              "    </tr>\n",
              "  </thead>\n",
              "  <tbody>\n",
              "    <tr>\n",
              "      <th rowspan=\"2\" valign=\"top\">0</th>\n",
              "      <th>0</th>\n",
              "      <td>398</td>\n",
              "    </tr>\n",
              "    <tr>\n",
              "      <th>1</th>\n",
              "      <td>210</td>\n",
              "    </tr>\n",
              "    <tr>\n",
              "      <th rowspan=\"2\" valign=\"top\">1</th>\n",
              "      <th>0</th>\n",
              "      <td>97</td>\n",
              "    </tr>\n",
              "    <tr>\n",
              "      <th>1</th>\n",
              "      <td>112</td>\n",
              "    </tr>\n",
              "    <tr>\n",
              "      <th rowspan=\"2\" valign=\"top\">2</th>\n",
              "      <th>0</th>\n",
              "      <td>15</td>\n",
              "    </tr>\n",
              "    <tr>\n",
              "      <th>1</th>\n",
              "      <td>13</td>\n",
              "    </tr>\n",
              "    <tr>\n",
              "      <th rowspan=\"2\" valign=\"top\">3</th>\n",
              "      <th>0</th>\n",
              "      <td>12</td>\n",
              "    </tr>\n",
              "    <tr>\n",
              "      <th>1</th>\n",
              "      <td>4</td>\n",
              "    </tr>\n",
              "    <tr>\n",
              "      <th rowspan=\"2\" valign=\"top\">4</th>\n",
              "      <th>0</th>\n",
              "      <td>15</td>\n",
              "    </tr>\n",
              "    <tr>\n",
              "      <th>1</th>\n",
              "      <td>3</td>\n",
              "    </tr>\n",
              "    <tr>\n",
              "      <th>5</th>\n",
              "      <th>0</th>\n",
              "      <td>5</td>\n",
              "    </tr>\n",
              "    <tr>\n",
              "      <th>8</th>\n",
              "      <th>0</th>\n",
              "      <td>7</td>\n",
              "    </tr>\n",
              "  </tbody>\n",
              "</table>\n",
              "</div>"
            ],
            "text/plain": [
              "                PassengerId\n",
              "SibSp Survived             \n",
              "0     0                 398\n",
              "      1                 210\n",
              "1     0                  97\n",
              "      1                 112\n",
              "2     0                  15\n",
              "      1                  13\n",
              "3     0                  12\n",
              "      1                   4\n",
              "4     0                  15\n",
              "      1                   3\n",
              "5     0                   5\n",
              "8     0                   7"
            ]
          },
          "metadata": {
            "tags": []
          },
          "execution_count": 41
        }
      ]
    },
    {
      "metadata": {
        "id": "srmqOycTwCY8",
        "colab_type": "code",
        "colab": {
          "base_uri": "https://localhost:8080/",
          "height": 447
        },
        "outputId": "8878a052-8cde-4611-e7f6-118076e598af"
      },
      "cell_type": "code",
      "source": [
        "#parch\n",
        "g = train_df.groupby(['Parch','Survived'])\n",
        "df = pd.DataFrame(g.count()['PassengerId'])\n",
        "df\n"
      ],
      "execution_count": 42,
      "outputs": [
        {
          "output_type": "execute_result",
          "data": {
            "text/html": [
              "<div>\n",
              "<style scoped>\n",
              "    .dataframe tbody tr th:only-of-type {\n",
              "        vertical-align: middle;\n",
              "    }\n",
              "\n",
              "    .dataframe tbody tr th {\n",
              "        vertical-align: top;\n",
              "    }\n",
              "\n",
              "    .dataframe thead th {\n",
              "        text-align: right;\n",
              "    }\n",
              "</style>\n",
              "<table border=\"1\" class=\"dataframe\">\n",
              "  <thead>\n",
              "    <tr style=\"text-align: right;\">\n",
              "      <th></th>\n",
              "      <th></th>\n",
              "      <th>PassengerId</th>\n",
              "    </tr>\n",
              "    <tr>\n",
              "      <th>Parch</th>\n",
              "      <th>Survived</th>\n",
              "      <th></th>\n",
              "    </tr>\n",
              "  </thead>\n",
              "  <tbody>\n",
              "    <tr>\n",
              "      <th rowspan=\"2\" valign=\"top\">0</th>\n",
              "      <th>0</th>\n",
              "      <td>445</td>\n",
              "    </tr>\n",
              "    <tr>\n",
              "      <th>1</th>\n",
              "      <td>233</td>\n",
              "    </tr>\n",
              "    <tr>\n",
              "      <th rowspan=\"2\" valign=\"top\">1</th>\n",
              "      <th>0</th>\n",
              "      <td>53</td>\n",
              "    </tr>\n",
              "    <tr>\n",
              "      <th>1</th>\n",
              "      <td>65</td>\n",
              "    </tr>\n",
              "    <tr>\n",
              "      <th rowspan=\"2\" valign=\"top\">2</th>\n",
              "      <th>0</th>\n",
              "      <td>40</td>\n",
              "    </tr>\n",
              "    <tr>\n",
              "      <th>1</th>\n",
              "      <td>40</td>\n",
              "    </tr>\n",
              "    <tr>\n",
              "      <th rowspan=\"2\" valign=\"top\">3</th>\n",
              "      <th>0</th>\n",
              "      <td>2</td>\n",
              "    </tr>\n",
              "    <tr>\n",
              "      <th>1</th>\n",
              "      <td>3</td>\n",
              "    </tr>\n",
              "    <tr>\n",
              "      <th>4</th>\n",
              "      <th>0</th>\n",
              "      <td>4</td>\n",
              "    </tr>\n",
              "    <tr>\n",
              "      <th rowspan=\"2\" valign=\"top\">5</th>\n",
              "      <th>0</th>\n",
              "      <td>4</td>\n",
              "    </tr>\n",
              "    <tr>\n",
              "      <th>1</th>\n",
              "      <td>1</td>\n",
              "    </tr>\n",
              "    <tr>\n",
              "      <th>6</th>\n",
              "      <th>0</th>\n",
              "      <td>1</td>\n",
              "    </tr>\n",
              "  </tbody>\n",
              "</table>\n",
              "</div>"
            ],
            "text/plain": [
              "                PassengerId\n",
              "Parch Survived             \n",
              "0     0                 445\n",
              "      1                 233\n",
              "1     0                  53\n",
              "      1                  65\n",
              "2     0                  40\n",
              "      1                  40\n",
              "3     0                   2\n",
              "      1                   3\n",
              "4     0                   4\n",
              "5     0                   4\n",
              "      1                   1\n",
              "6     0                   1"
            ]
          },
          "metadata": {
            "tags": []
          },
          "execution_count": 42
        }
      ]
    },
    {
      "metadata": {
        "id": "YVjq-hzbsEiT",
        "colab_type": "text"
      },
      "cell_type": "markdown",
      "source": [
        "#####gender in each class"
      ]
    },
    {
      "metadata": {
        "id": "pCP0BsmApWm0",
        "colab_type": "code",
        "colab": {
          "base_uri": "https://localhost:8080/",
          "height": 363
        },
        "outputId": "5a2d4b6c-a7c0-43ab-ab84-2800c3ed7269"
      },
      "cell_type": "code",
      "source": [
        "#Survived vs. gender in differenct class\n",
        "fig=plt.figure()\n",
        "fig.set(alpha=0.65) \n",
        "plt.title(u\"Survived vs. gender in differenct class\")\n",
        "\n",
        "ax1=fig.add_subplot(161)\n",
        "train_df.Survived[train_df.Sex == 'female'][train_df.Pclass == 1].value_counts().plot(kind='bar', label=\"female high class\", color='purple')\n",
        "ax1.set_xticklabels([u\"survived\", u\"not survived\"], rotation=0)\n",
        "ax1.legend([u\"female/highclass\"], loc='best')\n",
        "\n",
        "ax2=fig.add_subplot(162, sharey=ax1)\n",
        "train_df.Survived[train_df.Sex == 'female'][train_df.Pclass == 2].value_counts().plot(kind='bar', label='female, 2nd class', color='red')\n",
        "ax2.set_xticklabels([u\"survived\", u\"not survived\"], rotation=0)\n",
        "plt.legend([u\"female/2ndclass\"], loc='best')\n",
        "\n",
        "ax3=fig.add_subplot(163, sharey=ax1)\n",
        "train_df.Survived[train_df.Sex == 'female'][train_df.Pclass == 3].value_counts().plot(kind='bar', label='female, low class', color='pink')\n",
        "ax3.set_xticklabels([u\"survived\", u\"not survived\"], rotation=0)\n",
        "plt.legend([u\"female/3rdclass\"], loc='best')\n",
        "\n",
        "ax3=fig.add_subplot(164, sharey=ax1)\n",
        "train_df.Survived[train_df.Sex == 'male'][train_df.Pclass == 1].value_counts().plot(kind='bar', label='male, 1st class',color='lightblue')\n",
        "ax3.set_xticklabels([u\"survived\", u\"not survived\"], rotation=0)\n",
        "plt.legend([u\"male/highclass\"], loc='best')\n",
        "\n",
        "ax4=fig.add_subplot(165, sharey=ax1)\n",
        "train_df.Survived[train_df.Sex == 'male'][train_df.Pclass ==2].value_counts().plot(kind='bar', label='male 2nd class', color='navy')\n",
        "ax4.set_xticklabels([u\"survived\", u\"not survived\"], rotation=0)\n",
        "plt.legend([u\"male/2ndclass\"], loc='best')\n",
        "\n",
        "ax5=fig.add_subplot(166, sharey=ax1)\n",
        "train_df.Survived[train_df.Sex == 'male'][train_df.Pclass == 3].value_counts().plot(kind='bar', label='male 3rd class', color='steelblue')\n",
        "ax5.set_xticklabels([u\"survived\", u\"not survived\"], rotation=0)\n",
        "plt.legend([u\"male/3rdclass\"], loc='best')\n",
        "\n",
        "plt.show()"
      ],
      "execution_count": 40,
      "outputs": [
        {
          "output_type": "display_data",
          "data": {
            "image/png": "[encoded data removed]",
            "text/plain": [
              "<Figure size 576x396 with 7 Axes>"
            ]
          },
          "metadata": {
            "tags": []
          }
        }
      ]
    },
    {
      "metadata": {
        "id": "77pPqhbJw5kR",
        "colab_type": "text"
      },
      "cell_type": "markdown",
      "source": [
        "#####cabin and ticket\n",
        "Since carbin and ticket have multiple unique values, so we can not using them directly.\n",
        "\n",
        "Survived rates of passengers groups with/without Cabin information display different pattern."
      ]
    },
    {
      "metadata": {
        "id": "KwJycDuZxxug",
        "colab_type": "code",
        "colab": {
          "base_uri": "https://localhost:8080/",
          "height": 421
        },
        "outputId": "17fbeccb-cba5-4f87-fb69-2bfd0aeac3ca"
      },
      "cell_type": "code",
      "source": [
        "fig = plt.figure()\n",
        "fig.set(alpha=0.2)  # 设定图表颜色alpha参数\n",
        "\n",
        "Survived_cabin = train_df.Survived[pd.notnull(train_df.Cabin)].value_counts()\n",
        "Survived_nocabin = train_df.Survived[pd.isnull(train_df.Cabin)].value_counts()\n",
        "df=pd.DataFrame({u'cabin':Survived_cabin, u'no cabin':Survived_nocabin}).transpose()\n",
        "df.plot(kind='bar', stacked=True)\n",
        "plt.title(u\"survived vs. cablin\")\n",
        "plt.xlabel(u\"Have cabin info or not\") \n",
        "plt.ylabel(u\"Number of passengers\")\n",
        "plt.show()"
      ],
      "execution_count": 46,
      "outputs": [
        {
          "output_type": "display_data",
          "data": {
            "text/plain": [
              "<Figure size 576x396 with 0 Axes>"
            ]
          },
          "metadata": {
            "tags": []
          }
        },
        {
          "output_type": "display_data",
          "data": {
            "image/png": "[encoded data removed]",
            "text/plain": [
              "<Figure size 576x396 with 1 Axes>"
            ]
          },
          "metadata": {
            "tags": []
          }
        }
      ]
    },
    {
      "metadata": {
        "id": "-7GULH8mxVpp",
        "colab_type": "text"
      },
      "cell_type": "markdown",
      "source": [
        "## Data cleaning and Feature engineering\n",
        "deal with NA and catogorize some variables"
      ]
    },
    {
      "metadata": {
        "id": "16IztKe72euS",
        "colab_type": "text"
      },
      "cell_type": "markdown",
      "source": [
        "###Fit age\n",
        "To fit the missing age, we use RandomForest in scikit-learn package."
      ]
    },
    {
      "metadata": {
        "id": "wMqHc5SipcsM",
        "colab_type": "code",
        "colab": {}
      },
      "cell_type": "code",
      "source": [
        "from sklearn.ensemble import RandomForestRegressor\n",
        " \n",
        "### Use RandomForestClassifier impute missing age data\n",
        "def set_missing_ages(df):\n",
        "    \n",
        "   \n",
        "    age_df = df[['Age','Fare', 'Parch', 'SibSp', 'Pclass']]    # Put numerical variables we have into Random Forest Regressor\n",
        "\n",
        "    known_age = age_df[age_df.Age.notnull()].as_matrix()       # Divide passengers in to two group(known_age/unknown_age)\n",
        "    unknown_age = age_df[age_df.Age.isnull()].as_matrix()\n",
        "\n",
        "    y = known_age[:, 0]  # y -age\n",
        "    X = known_age[:, 1:] # X- features of known_age group\n",
        "\n",
        "    # fit into RandomForestRegressor\n",
        "    rfr = RandomForestRegressor(random_state=0, n_estimators=2000, n_jobs=-1)\n",
        "    rfr.fit(X, y)\n",
        "    \n",
        "    # predict age for unknown_age group\n",
        "    predictedAges = rfr.predict(unknown_age[:, 1::])\n",
        "    \n",
        "    # impute\n",
        "    df.loc[ (df.Age.isnull()), 'Age' ] = predictedAges \n",
        "    \n",
        "    return df, rfr\n",
        "\n"
      ],
      "execution_count": 0,
      "outputs": []
    },
    {
      "metadata": {
        "id": "deQeVLGE38Ss",
        "colab_type": "text"
      },
      "cell_type": "markdown",
      "source": [
        "### Deal with NAs in Cabin\n",
        "Devide Cabin into 2 groups, and  assign 'Y'/ 'N'  ."
      ]
    },
    {
      "metadata": {
        "id": "fkZ0uv98putp",
        "colab_type": "code",
        "colab": {}
      },
      "cell_type": "code",
      "source": [
        "def set_Cabin_type(df):\n",
        "    df.loc[ (df.Cabin.notnull()), 'Cabin' ] = \"Yes\"\n",
        "    df.loc[ (df.Cabin.isnull()), 'Cabin' ] = \"No\"\n",
        "    return df\n"
      ],
      "execution_count": 0,
      "outputs": []
    },
    {
      "metadata": {
        "id": "FWOrwdXm43PI",
        "colab_type": "text"
      },
      "cell_type": "markdown",
      "source": [
        "### Get new train data"
      ]
    },
    {
      "metadata": {
        "id": "XHuZpiDV43sU",
        "colab_type": "code",
        "colab": {
          "base_uri": "https://localhost:8080/",
          "height": 202
        },
        "outputId": "36955f96-7d52-4309-b725-796a3d171f24"
      },
      "cell_type": "code",
      "source": [
        "\n",
        "train_df, rfr = set_missing_ages(train_df)\n",
        "train_df = set_Cabin_type(train_df)\n",
        "train_df.head()"
      ],
      "execution_count": 13,
      "outputs": [
        {
          "output_type": "execute_result",
          "data": {
            "text/html": [
              "<div>\n",
              "<style scoped>\n",
              "    .dataframe tbody tr th:only-of-type {\n",
              "        vertical-align: middle;\n",
              "    }\n",
              "\n",
              "    .dataframe tbody tr th {\n",
              "        vertical-align: top;\n",
              "    }\n",
              "\n",
              "    .dataframe thead th {\n",
              "        text-align: right;\n",
              "    }\n",
              "</style>\n",
              "<table border=\"1\" class=\"dataframe\">\n",
              "  <thead>\n",
              "    <tr style=\"text-align: right;\">\n",
              "      <th></th>\n",
              "      <th>PassengerId</th>\n",
              "      <th>Survived</th>\n",
              "      <th>Pclass</th>\n",
              "      <th>Name</th>\n",
              "      <th>Sex</th>\n",
              "      <th>Age</th>\n",
              "      <th>SibSp</th>\n",
              "      <th>Parch</th>\n",
              "      <th>Ticket</th>\n",
              "      <th>Fare</th>\n",
              "      <th>Cabin</th>\n",
              "      <th>Embarked</th>\n",
              "    </tr>\n",
              "  </thead>\n",
              "  <tbody>\n",
              "    <tr>\n",
              "      <th>0</th>\n",
              "      <td>1</td>\n",
              "      <td>0</td>\n",
              "      <td>3</td>\n",
              "      <td>Braund, Mr. Owen Harris</td>\n",
              "      <td>male</td>\n",
              "      <td>22.0</td>\n",
              "      <td>1</td>\n",
              "      <td>0</td>\n",
              "      <td>A/5 21171</td>\n",
              "      <td>7.2500</td>\n",
              "      <td>No</td>\n",
              "      <td>S</td>\n",
              "    </tr>\n",
              "    <tr>\n",
              "      <th>1</th>\n",
              "      <td>2</td>\n",
              "      <td>1</td>\n",
              "      <td>1</td>\n",
              "      <td>Cumings, Mrs. John Bradley (Florence Briggs Th...</td>\n",
              "      <td>female</td>\n",
              "      <td>38.0</td>\n",
              "      <td>1</td>\n",
              "      <td>0</td>\n",
              "      <td>PC 17599</td>\n",
              "      <td>71.2833</td>\n",
              "      <td>Yes</td>\n",
              "      <td>C</td>\n",
              "    </tr>\n",
              "    <tr>\n",
              "      <th>2</th>\n",
              "      <td>3</td>\n",
              "      <td>1</td>\n",
              "      <td>3</td>\n",
              "      <td>Heikkinen, Miss. Laina</td>\n",
              "      <td>female</td>\n",
              "      <td>26.0</td>\n",
              "      <td>0</td>\n",
              "      <td>0</td>\n",
              "      <td>STON/O2. 3101282</td>\n",
              "      <td>7.9250</td>\n",
              "      <td>No</td>\n",
              "      <td>S</td>\n",
              "    </tr>\n",
              "    <tr>\n",
              "      <th>3</th>\n",
              "      <td>4</td>\n",
              "      <td>1</td>\n",
              "      <td>1</td>\n",
              "      <td>Futrelle, Mrs. Jacques Heath (Lily May Peel)</td>\n",
              "      <td>female</td>\n",
              "      <td>35.0</td>\n",
              "      <td>1</td>\n",
              "      <td>0</td>\n",
              "      <td>113803</td>\n",
              "      <td>53.1000</td>\n",
              "      <td>Yes</td>\n",
              "      <td>S</td>\n",
              "    </tr>\n",
              "    <tr>\n",
              "      <th>4</th>\n",
              "      <td>5</td>\n",
              "      <td>0</td>\n",
              "      <td>3</td>\n",
              "      <td>Allen, Mr. William Henry</td>\n",
              "      <td>male</td>\n",
              "      <td>35.0</td>\n",
              "      <td>0</td>\n",
              "      <td>0</td>\n",
              "      <td>373450</td>\n",
              "      <td>8.0500</td>\n",
              "      <td>No</td>\n",
              "      <td>S</td>\n",
              "    </tr>\n",
              "  </tbody>\n",
              "</table>\n",
              "</div>"
            ],
            "text/plain": [
              "   PassengerId  Survived  Pclass  \\\n",
              "0            1         0       3   \n",
              "1            2         1       1   \n",
              "2            3         1       3   \n",
              "3            4         1       1   \n",
              "4            5         0       3   \n",
              "\n",
              "                                                Name     Sex   Age  SibSp  \\\n",
              "0                            Braund, Mr. Owen Harris    male  22.0      1   \n",
              "1  Cumings, Mrs. John Bradley (Florence Briggs Th...  female  38.0      1   \n",
              "2                             Heikkinen, Miss. Laina  female  26.0      0   \n",
              "3       Futrelle, Mrs. Jacques Heath (Lily May Peel)  female  35.0      1   \n",
              "4                           Allen, Mr. William Henry    male  35.0      0   \n",
              "\n",
              "   Parch            Ticket     Fare Cabin Embarked  \n",
              "0      0         A/5 21171   7.2500    No        S  \n",
              "1      0          PC 17599  71.2833   Yes        C  \n",
              "2      0  STON/O2. 3101282   7.9250    No        S  \n",
              "3      0            113803  53.1000   Yes        S  \n",
              "4      0            373450   8.0500    No        S  "
            ]
          },
          "metadata": {
            "tags": []
          },
          "execution_count": 13
        }
      ]
    },
    {
      "metadata": {
        "id": "LvKoEG9o99dd",
        "colab_type": "text"
      },
      "cell_type": "markdown",
      "source": [
        "### Create dummy and get new train dataset\n",
        "\n",
        "create dummies for catogorical variables"
      ]
    },
    {
      "metadata": {
        "id": "HYSVwsyO-F0P",
        "colab_type": "code",
        "colab": {
          "base_uri": "https://localhost:8080/",
          "height": 222
        },
        "outputId": "46a75c78-5957-4145-b14f-a7a1d3218a4f"
      },
      "cell_type": "code",
      "source": [
        "dummies_Cabin = pd.get_dummies(train_df['Cabin'], prefix= 'Cabin')\n",
        "\n",
        "dummies_Embarked = pd.get_dummies(train_df['Embarked'], prefix= 'Embarked')\n",
        "\n",
        "dummies_Sex = pd.get_dummies(train_df['Sex'], prefix= 'Sex')\n",
        "\n",
        "dummies_Pclass = pd.get_dummies(train_df['Pclass'], prefix= 'Pclass')\n",
        "\n",
        "newtrain_df = pd.concat([train_df, dummies_Cabin, dummies_Embarked, dummies_Sex, dummies_Pclass], axis=1)\n",
        "newtrain_df.drop(['Pclass', 'Name', 'Sex', 'Ticket', 'Cabin', 'Embarked'], axis=1, inplace=True)\n",
        "newtrain_df.head()"
      ],
      "execution_count": 15,
      "outputs": [
        {
          "output_type": "execute_result",
          "data": {
            "text/html": [
              "<div>\n",
              "<style scoped>\n",
              "    .dataframe tbody tr th:only-of-type {\n",
              "        vertical-align: middle;\n",
              "    }\n",
              "\n",
              "    .dataframe tbody tr th {\n",
              "        vertical-align: top;\n",
              "    }\n",
              "\n",
              "    .dataframe thead th {\n",
              "        text-align: right;\n",
              "    }\n",
              "</style>\n",
              "<table border=\"1\" class=\"dataframe\">\n",
              "  <thead>\n",
              "    <tr style=\"text-align: right;\">\n",
              "      <th></th>\n",
              "      <th>PassengerId</th>\n",
              "      <th>Survived</th>\n",
              "      <th>Age</th>\n",
              "      <th>SibSp</th>\n",
              "      <th>Parch</th>\n",
              "      <th>Fare</th>\n",
              "      <th>Cabin_No</th>\n",
              "      <th>Cabin_Yes</th>\n",
              "      <th>Embarked_C</th>\n",
              "      <th>Embarked_Q</th>\n",
              "      <th>Embarked_S</th>\n",
              "      <th>Sex_female</th>\n",
              "      <th>Sex_male</th>\n",
              "      <th>Pclass_1</th>\n",
              "      <th>Pclass_2</th>\n",
              "      <th>Pclass_3</th>\n",
              "    </tr>\n",
              "  </thead>\n",
              "  <tbody>\n",
              "    <tr>\n",
              "      <th>0</th>\n",
              "      <td>1</td>\n",
              "      <td>0</td>\n",
              "      <td>22.0</td>\n",
              "      <td>1</td>\n",
              "      <td>0</td>\n",
              "      <td>7.2500</td>\n",
              "      <td>1</td>\n",
              "      <td>0</td>\n",
              "      <td>0</td>\n",
              "      <td>0</td>\n",
              "      <td>1</td>\n",
              "      <td>0</td>\n",
              "      <td>1</td>\n",
              "      <td>0</td>\n",
              "      <td>0</td>\n",
              "      <td>1</td>\n",
              "    </tr>\n",
              "    <tr>\n",
              "      <th>1</th>\n",
              "      <td>2</td>\n",
              "      <td>1</td>\n",
              "      <td>38.0</td>\n",
              "      <td>1</td>\n",
              "      <td>0</td>\n",
              "      <td>71.2833</td>\n",
              "      <td>0</td>\n",
              "      <td>1</td>\n",
              "      <td>1</td>\n",
              "      <td>0</td>\n",
              "      <td>0</td>\n",
              "      <td>1</td>\n",
              "      <td>0</td>\n",
              "      <td>1</td>\n",
              "      <td>0</td>\n",
              "      <td>0</td>\n",
              "    </tr>\n",
              "    <tr>\n",
              "      <th>2</th>\n",
              "      <td>3</td>\n",
              "      <td>1</td>\n",
              "      <td>26.0</td>\n",
              "      <td>0</td>\n",
              "      <td>0</td>\n",
              "      <td>7.9250</td>\n",
              "      <td>1</td>\n",
              "      <td>0</td>\n",
              "      <td>0</td>\n",
              "      <td>0</td>\n",
              "      <td>1</td>\n",
              "      <td>1</td>\n",
              "      <td>0</td>\n",
              "      <td>0</td>\n",
              "      <td>0</td>\n",
              "      <td>1</td>\n",
              "    </tr>\n",
              "    <tr>\n",
              "      <th>3</th>\n",
              "      <td>4</td>\n",
              "      <td>1</td>\n",
              "      <td>35.0</td>\n",
              "      <td>1</td>\n",
              "      <td>0</td>\n",
              "      <td>53.1000</td>\n",
              "      <td>0</td>\n",
              "      <td>1</td>\n",
              "      <td>0</td>\n",
              "      <td>0</td>\n",
              "      <td>1</td>\n",
              "      <td>1</td>\n",
              "      <td>0</td>\n",
              "      <td>1</td>\n",
              "      <td>0</td>\n",
              "      <td>0</td>\n",
              "    </tr>\n",
              "    <tr>\n",
              "      <th>4</th>\n",
              "      <td>5</td>\n",
              "      <td>0</td>\n",
              "      <td>35.0</td>\n",
              "      <td>0</td>\n",
              "      <td>0</td>\n",
              "      <td>8.0500</td>\n",
              "      <td>1</td>\n",
              "      <td>0</td>\n",
              "      <td>0</td>\n",
              "      <td>0</td>\n",
              "      <td>1</td>\n",
              "      <td>0</td>\n",
              "      <td>1</td>\n",
              "      <td>0</td>\n",
              "      <td>0</td>\n",
              "      <td>1</td>\n",
              "    </tr>\n",
              "  </tbody>\n",
              "</table>\n",
              "</div>"
            ],
            "text/plain": [
              "   PassengerId  Survived   Age  SibSp  Parch     Fare  Cabin_No  Cabin_Yes  \\\n",
              "0            1         0  22.0      1      0   7.2500         1          0   \n",
              "1            2         1  38.0      1      0  71.2833         0          1   \n",
              "2            3         1  26.0      0      0   7.9250         1          0   \n",
              "3            4         1  35.0      1      0  53.1000         0          1   \n",
              "4            5         0  35.0      0      0   8.0500         1          0   \n",
              "\n",
              "   Embarked_C  Embarked_Q  Embarked_S  Sex_female  Sex_male  Pclass_1  \\\n",
              "0           0           0           1           0         1         0   \n",
              "1           1           0           0           1         0         1   \n",
              "2           0           0           1           1         0         0   \n",
              "3           0           0           1           1         0         1   \n",
              "4           0           0           1           0         1         0   \n",
              "\n",
              "   Pclass_2  Pclass_3  \n",
              "0         0         1  \n",
              "1         0         0  \n",
              "2         0         1  \n",
              "3         0         0  \n",
              "4         0         1  "
            ]
          },
          "metadata": {
            "tags": []
          },
          "execution_count": 15
        }
      ]
    },
    {
      "metadata": {
        "id": "CHQZXDM6xAQ7",
        "colab_type": "text"
      },
      "cell_type": "markdown",
      "source": [
        "###Correlation"
      ]
    },
    {
      "metadata": {
        "id": "eFkNius7AV5d",
        "colab_type": "code",
        "outputId": "ad21f86d-223b-4b23-c1bf-f52c8fa5880e",
        "colab": {
          "base_uri": "https://localhost:8080/",
          "height": 415
        }
      },
      "cell_type": "code",
      "source": [
        "import seaborn as sns\n",
        "sns.heatmap(newtrain_df.iloc[:,1:].corr())"
      ],
      "execution_count": 17,
      "outputs": [
        {
          "output_type": "execute_result",
          "data": {
            "text/plain": [
              "<matplotlib.axes._subplots.AxesSubplot at 0x7f4a7a82f908>"
            ]
          },
          "metadata": {
            "tags": []
          },
          "execution_count": 17
        },
        {
          "output_type": "display_data",
          "data": {
            "image/png": "[encoded data removed]",
            "text/plain": [
              "<Figure size 576x396 with 2 Axes>"
            ]
          },
          "metadata": {
            "tags": []
          }
        }
      ]
    },
    {
      "metadata": {
        "id": "XBbIxZa1CEDa",
        "colab_type": "text"
      },
      "cell_type": "markdown",
      "source": [
        "##Build Logistic Regression model with scikit-learn package"
      ]
    },
    {
      "metadata": {
        "id": "x34SLW56JF56",
        "colab_type": "text"
      },
      "cell_type": "markdown",
      "source": [
        "###Extract features from new train dataset, and transform into numpy"
      ]
    },
    {
      "metadata": {
        "colab_type": "code",
        "id": "Vqo6sQslLC45",
        "colab": {}
      },
      "cell_type": "code",
      "source": [
        "from sklearn import linear_model\n",
        "\n",
        "modify_train_df = newtrain_df.filter(regex='Survived|Age|SibSp|Parch|Fare|Cabin_.*|Embarked_.*|Sex_.*|Pclass_.*')\n",
        "train_np = modify_train_df.as_matrix()\n",
        "\n",
        "# y is target(survived)#\n",
        "y = train_np[:, 0]\n",
        "\n",
        "# X is features \n",
        "X = train_np[:, 1:]\n"
      ],
      "execution_count": 0,
      "outputs": []
    },
    {
      "metadata": {
        "id": "eqVwC6pNNU-i",
        "colab_type": "code",
        "colab": {
          "base_uri": "https://localhost:8080/",
          "height": 141
        },
        "outputId": "c22f8f21-15a0-4de6-853c-a0801d35fae1"
      },
      "cell_type": "code",
      "source": [
        "modify_train_df.head(3)"
      ],
      "execution_count": 33,
      "outputs": [
        {
          "output_type": "execute_result",
          "data": {
            "text/html": [
              "<div>\n",
              "<style scoped>\n",
              "    .dataframe tbody tr th:only-of-type {\n",
              "        vertical-align: middle;\n",
              "    }\n",
              "\n",
              "    .dataframe tbody tr th {\n",
              "        vertical-align: top;\n",
              "    }\n",
              "\n",
              "    .dataframe thead th {\n",
              "        text-align: right;\n",
              "    }\n",
              "</style>\n",
              "<table border=\"1\" class=\"dataframe\">\n",
              "  <thead>\n",
              "    <tr style=\"text-align: right;\">\n",
              "      <th></th>\n",
              "      <th>Survived</th>\n",
              "      <th>Age</th>\n",
              "      <th>SibSp</th>\n",
              "      <th>Parch</th>\n",
              "      <th>Fare</th>\n",
              "      <th>Cabin_No</th>\n",
              "      <th>Cabin_Yes</th>\n",
              "      <th>Embarked_C</th>\n",
              "      <th>Embarked_Q</th>\n",
              "      <th>Embarked_S</th>\n",
              "      <th>Sex_female</th>\n",
              "      <th>Sex_male</th>\n",
              "      <th>Pclass_1</th>\n",
              "      <th>Pclass_2</th>\n",
              "      <th>Pclass_3</th>\n",
              "    </tr>\n",
              "  </thead>\n",
              "  <tbody>\n",
              "    <tr>\n",
              "      <th>0</th>\n",
              "      <td>0</td>\n",
              "      <td>22.0</td>\n",
              "      <td>1</td>\n",
              "      <td>0</td>\n",
              "      <td>7.2500</td>\n",
              "      <td>1</td>\n",
              "      <td>0</td>\n",
              "      <td>0</td>\n",
              "      <td>0</td>\n",
              "      <td>1</td>\n",
              "      <td>0</td>\n",
              "      <td>1</td>\n",
              "      <td>0</td>\n",
              "      <td>0</td>\n",
              "      <td>1</td>\n",
              "    </tr>\n",
              "    <tr>\n",
              "      <th>1</th>\n",
              "      <td>1</td>\n",
              "      <td>38.0</td>\n",
              "      <td>1</td>\n",
              "      <td>0</td>\n",
              "      <td>71.2833</td>\n",
              "      <td>0</td>\n",
              "      <td>1</td>\n",
              "      <td>1</td>\n",
              "      <td>0</td>\n",
              "      <td>0</td>\n",
              "      <td>1</td>\n",
              "      <td>0</td>\n",
              "      <td>1</td>\n",
              "      <td>0</td>\n",
              "      <td>0</td>\n",
              "    </tr>\n",
              "    <tr>\n",
              "      <th>2</th>\n",
              "      <td>1</td>\n",
              "      <td>26.0</td>\n",
              "      <td>0</td>\n",
              "      <td>0</td>\n",
              "      <td>7.9250</td>\n",
              "      <td>1</td>\n",
              "      <td>0</td>\n",
              "      <td>0</td>\n",
              "      <td>0</td>\n",
              "      <td>1</td>\n",
              "      <td>1</td>\n",
              "      <td>0</td>\n",
              "      <td>0</td>\n",
              "      <td>0</td>\n",
              "      <td>1</td>\n",
              "    </tr>\n",
              "  </tbody>\n",
              "</table>\n",
              "</div>"
            ],
            "text/plain": [
              "   Survived   Age  SibSp  Parch     Fare  Cabin_No  Cabin_Yes  Embarked_C  \\\n",
              "0         0  22.0      1      0   7.2500         1          0           0   \n",
              "1         1  38.0      1      0  71.2833         0          1           1   \n",
              "2         1  26.0      0      0   7.9250         1          0           0   \n",
              "\n",
              "   Embarked_Q  Embarked_S  Sex_female  Sex_male  Pclass_1  Pclass_2  Pclass_3  \n",
              "0           0           1           0         1         0         0         1  \n",
              "1           0           0           1         0         1         0         0  \n",
              "2           0           1           1         0         0         0         1  "
            ]
          },
          "metadata": {
            "tags": []
          },
          "execution_count": 33
        }
      ]
    },
    {
      "metadata": {
        "id": "cqxXOSkIJk4l",
        "colab_type": "text"
      },
      "cell_type": "markdown",
      "source": [
        "###Train logistic model"
      ]
    },
    {
      "metadata": {
        "id": "JyrOSqxYJlXq",
        "colab_type": "code",
        "colab": {
          "base_uri": "https://localhost:8080/",
          "height": 89
        },
        "outputId": "d99cd841-7814-4de0-b4cf-812c51cca73f"
      },
      "cell_type": "code",
      "source": [
        "\n",
        "# fit into RandomForestRegressor\n",
        "clf = linear_model.LogisticRegression(C=1.0, multi_class='ovr', penalty='l1',  solver='liblinear',tol=1e-6)\n",
        "clf.fit(X, y)\n",
        "    \n",
        "clf"
      ],
      "execution_count": 34,
      "outputs": [
        {
          "output_type": "execute_result",
          "data": {
            "text/plain": [
              "LogisticRegression(C=1.0, class_weight=None, dual=False, fit_intercept=True,\n",
              "          intercept_scaling=1, max_iter=100, multi_class='ovr',\n",
              "          n_jobs=None, penalty='l1', random_state=None, solver='liblinear',\n",
              "          tol=1e-06, verbose=0, warm_start=False)"
            ]
          },
          "metadata": {
            "tags": []
          },
          "execution_count": 34
        }
      ]
    },
    {
      "metadata": {
        "id": "-txT1zWpM85d",
        "colab_type": "code",
        "colab": {
          "base_uri": "https://localhost:8080/",
          "height": 35
        },
        "outputId": "9a199da8-c7dd-4034-c6b2-92e05327615d"
      },
      "cell_type": "code",
      "source": [
        "X.shape"
      ],
      "execution_count": 35,
      "outputs": [
        {
          "output_type": "execute_result",
          "data": {
            "text/plain": [
              "(891, 14)"
            ]
          },
          "metadata": {
            "tags": []
          },
          "execution_count": 35
        }
      ]
    },
    {
      "metadata": {
        "id": "-iJD6ubPOi09",
        "colab_type": "text"
      },
      "cell_type": "markdown",
      "source": [
        "###Deal with test dataset"
      ]
    },
    {
      "metadata": {
        "id": "-Hb0-yqGT_b2",
        "colab_type": "text"
      },
      "cell_type": "markdown",
      "source": [
        "####Feature transformation with test data"
      ]
    },
    {
      "metadata": {
        "id": "who7y5bPOq0h",
        "colab_type": "code",
        "colab": {
          "base_uri": "https://localhost:8080/",
          "height": 202
        },
        "outputId": "cb4de469-d1c4-46d2-a27a-f452ea539081"
      },
      "cell_type": "code",
      "source": [
        "test_df.loc[ (test_df.Fare.isnull()), 'Fare' ] = 0\n",
        "\n",
        "# impute missing age\n",
        "tmp_df = test_df[['Age','Fare', 'Parch', 'SibSp', 'Pclass']]\n",
        "null_age = tmp_df[test_df.Age.isnull()].as_matrix()\n",
        "\n",
        "X = null_age[:, 1:]\n",
        "predictedAges = rfr.predict(X)\n",
        "test_df.loc[ (test_df.Age.isnull()), 'Age' ] = predictedAges\n",
        "\n",
        "# create dummies\n",
        "test_df = set_Cabin_type(test_df)\n",
        "dummies_Cabin = pd.get_dummies(test_df['Cabin'], prefix= 'Cabin')\n",
        "dummies_Embarked = pd.get_dummies(test_df['Embarked'], prefix= 'Embarked')\n",
        "dummies_Sex = pd.get_dummies(test_df['Sex'], prefix= 'Sex')\n",
        "dummies_Pclass = pd.get_dummies(test_df['Pclass'], prefix= 'Pclass')\n",
        "\n",
        "\n",
        "df_test = pd.concat([test_df, dummies_Cabin, dummies_Embarked, dummies_Sex, dummies_Pclass], axis=1)\n",
        "df_test.drop(['Pclass', 'Name', 'Sex', 'Ticket', 'Cabin', 'Embarked'], axis=1, inplace=True)\n",
        "df_test.head(5)"
      ],
      "execution_count": 36,
      "outputs": [
        {
          "output_type": "execute_result",
          "data": {
            "text/html": [
              "<div>\n",
              "<style scoped>\n",
              "    .dataframe tbody tr th:only-of-type {\n",
              "        vertical-align: middle;\n",
              "    }\n",
              "\n",
              "    .dataframe tbody tr th {\n",
              "        vertical-align: top;\n",
              "    }\n",
              "\n",
              "    .dataframe thead th {\n",
              "        text-align: right;\n",
              "    }\n",
              "</style>\n",
              "<table border=\"1\" class=\"dataframe\">\n",
              "  <thead>\n",
              "    <tr style=\"text-align: right;\">\n",
              "      <th></th>\n",
              "      <th>PassengerId</th>\n",
              "      <th>Age</th>\n",
              "      <th>SibSp</th>\n",
              "      <th>Parch</th>\n",
              "      <th>Fare</th>\n",
              "      <th>Cabin_No</th>\n",
              "      <th>Cabin_Yes</th>\n",
              "      <th>Embarked_C</th>\n",
              "      <th>Embarked_Q</th>\n",
              "      <th>Embarked_S</th>\n",
              "      <th>Sex_female</th>\n",
              "      <th>Sex_male</th>\n",
              "      <th>Pclass_1</th>\n",
              "      <th>Pclass_2</th>\n",
              "      <th>Pclass_3</th>\n",
              "    </tr>\n",
              "  </thead>\n",
              "  <tbody>\n",
              "    <tr>\n",
              "      <th>0</th>\n",
              "      <td>892</td>\n",
              "      <td>34.5</td>\n",
              "      <td>0</td>\n",
              "      <td>0</td>\n",
              "      <td>7.8292</td>\n",
              "      <td>1</td>\n",
              "      <td>0</td>\n",
              "      <td>0</td>\n",
              "      <td>1</td>\n",
              "      <td>0</td>\n",
              "      <td>0</td>\n",
              "      <td>1</td>\n",
              "      <td>0</td>\n",
              "      <td>0</td>\n",
              "      <td>1</td>\n",
              "    </tr>\n",
              "    <tr>\n",
              "      <th>1</th>\n",
              "      <td>893</td>\n",
              "      <td>47.0</td>\n",
              "      <td>1</td>\n",
              "      <td>0</td>\n",
              "      <td>7.0000</td>\n",
              "      <td>1</td>\n",
              "      <td>0</td>\n",
              "      <td>0</td>\n",
              "      <td>0</td>\n",
              "      <td>1</td>\n",
              "      <td>1</td>\n",
              "      <td>0</td>\n",
              "      <td>0</td>\n",
              "      <td>0</td>\n",
              "      <td>1</td>\n",
              "    </tr>\n",
              "    <tr>\n",
              "      <th>2</th>\n",
              "      <td>894</td>\n",
              "      <td>62.0</td>\n",
              "      <td>0</td>\n",
              "      <td>0</td>\n",
              "      <td>9.6875</td>\n",
              "      <td>1</td>\n",
              "      <td>0</td>\n",
              "      <td>0</td>\n",
              "      <td>1</td>\n",
              "      <td>0</td>\n",
              "      <td>0</td>\n",
              "      <td>1</td>\n",
              "      <td>0</td>\n",
              "      <td>1</td>\n",
              "      <td>0</td>\n",
              "    </tr>\n",
              "    <tr>\n",
              "      <th>3</th>\n",
              "      <td>895</td>\n",
              "      <td>27.0</td>\n",
              "      <td>0</td>\n",
              "      <td>0</td>\n",
              "      <td>8.6625</td>\n",
              "      <td>1</td>\n",
              "      <td>0</td>\n",
              "      <td>0</td>\n",
              "      <td>0</td>\n",
              "      <td>1</td>\n",
              "      <td>0</td>\n",
              "      <td>1</td>\n",
              "      <td>0</td>\n",
              "      <td>0</td>\n",
              "      <td>1</td>\n",
              "    </tr>\n",
              "    <tr>\n",
              "      <th>4</th>\n",
              "      <td>896</td>\n",
              "      <td>22.0</td>\n",
              "      <td>1</td>\n",
              "      <td>1</td>\n",
              "      <td>12.2875</td>\n",
              "      <td>1</td>\n",
              "      <td>0</td>\n",
              "      <td>0</td>\n",
              "      <td>0</td>\n",
              "      <td>1</td>\n",
              "      <td>1</td>\n",
              "      <td>0</td>\n",
              "      <td>0</td>\n",
              "      <td>0</td>\n",
              "      <td>1</td>\n",
              "    </tr>\n",
              "  </tbody>\n",
              "</table>\n",
              "</div>"
            ],
            "text/plain": [
              "   PassengerId   Age  SibSp  Parch     Fare  Cabin_No  Cabin_Yes  Embarked_C  \\\n",
              "0          892  34.5      0      0   7.8292         1          0           0   \n",
              "1          893  47.0      1      0   7.0000         1          0           0   \n",
              "2          894  62.0      0      0   9.6875         1          0           0   \n",
              "3          895  27.0      0      0   8.6625         1          0           0   \n",
              "4          896  22.0      1      1  12.2875         1          0           0   \n",
              "\n",
              "   Embarked_Q  Embarked_S  Sex_female  Sex_male  Pclass_1  Pclass_2  Pclass_3  \n",
              "0           1           0           0         1         0         0         1  \n",
              "1           0           1           1         0         0         0         1  \n",
              "2           1           0           0         1         0         1         0  \n",
              "3           0           1           0         1         0         0         1  \n",
              "4           0           1           1         0         0         0         1  "
            ]
          },
          "metadata": {
            "tags": []
          },
          "execution_count": 36
        }
      ]
    },
    {
      "metadata": {
        "id": "nnb0wBG9UWMQ",
        "colab_type": "text"
      },
      "cell_type": "markdown",
      "source": [
        "###Use test data for prediction"
      ]
    },
    {
      "metadata": {
        "id": "OqzJY27cUo6y",
        "colab_type": "code",
        "colab": {}
      },
      "cell_type": "code",
      "source": [
        "test = df_test.filter(regex='Age|SibSp|Parch|Fare|Cabin_.*|Embarked_.*|Sex_.*|Pclass_.*')\n",
        "predictions = clf.predict(test)\n",
        "result = pd.DataFrame({'PassengerId':test_df['PassengerId'].as_matrix(), 'Survived':predictions.astype(np.int32)})\n",
        "result.to_csv(\"logistic_regression_predictions.csv\", index=False)"
      ],
      "execution_count": 0,
      "outputs": []
    },
    {
      "metadata": {
        "id": "y8b1E_l-Vm2E",
        "colab_type": "code",
        "colab": {}
      },
      "cell_type": "code",
      "source": [
        "pd.read_csv(\"logistic_regression_predictions.csv\")"
      ],
      "execution_count": 0,
      "outputs": []
    },
    {
      "metadata": {
        "id": "nMz1RHRyY6mR",
        "colab_type": "text"
      },
      "cell_type": "markdown",
      "source": [
        "##Save submission file"
      ]
    },
    {
      "metadata": {
        "id": "AKFxA0n9Y-Ax",
        "colab_type": "code",
        "colab": {}
      },
      "cell_type": "code",
      "source": [
        "!pip install -U -q PyDrive\n",
        "from pydrive.auth import GoogleAuth\n",
        "from pydrive.drive import GoogleDrive\n",
        "from google.colab import auth\n",
        "from oauth2client.client import GoogleCredentials\n",
        "\n",
        "# Authenticate and create the PyDrive client.\n",
        "# This only needs to be done once in a notebook.\n",
        "auth.authenticate_user()\n",
        "gauth = GoogleAuth()\n",
        "gauth.credentials = GoogleCredentials.get_application_default()\n",
        "drive = GoogleDrive(gauth)\n",
        "# Create & upload a text file.\n",
        "#你想要导出的文件的名字\n",
        "uploaded = drive.CreateFile({'title': 'logistic_regression_predictions.csv'})\n",
        "\n"
      ],
      "execution_count": 0,
      "outputs": []
    }
  ]
}